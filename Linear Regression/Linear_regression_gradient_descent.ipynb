{
 "cells": [
  {
   "cell_type": "code",
   "execution_count": 14,
   "metadata": {
    "collapsed": false
   },
   "outputs": [
    {
     "name": "stdout",
     "output_type": "stream",
     "text": [
      "Starting gradient descent at b = 0, m = 0, error = 5565.107834483211\n",
      "Running ...\n",
      "After 1 iterations b = 0.035075681924459964, m = 1.4788086407227388, error = 112.64705637345223\n"
     ]
    }
   ],
   "source": [
    "from numpy import * \n",
    "\n",
    "def compute_error_for_line_given_points(b,m, points):\n",
    "    N = float(len(points))\n",
    "    error = 0\n",
    "    \n",
    "    for i in range(len(points)):\n",
    "        x = points[i,0]\n",
    "        y = points[i,1]\n",
    "        error += (y - (m * x + b)) ** 2\n",
    "    return error / N\n",
    "\n",
    "def gradient_descent_runner(points, initial_b, initial_m, learning_rate, num_iterations):\n",
    "    m = initial_m\n",
    "    b = initial_b\n",
    "    N = len(points)\n",
    "    \n",
    "    for i in range(N): \n",
    "        b , m = step_gradient(points,b,m,learning_rate)\n",
    "        \n",
    "    return [b,m]\n",
    "\n",
    "def step_gradient(points,b,m,learning_rate):\n",
    "    b_gradient = b\n",
    "    m_gradient = m \n",
    "    \n",
    "    N = float(len(points))\n",
    "    \n",
    "    for i in range(len(points)):\n",
    "        x = points[i,0]\n",
    "        y = points[i,1]\n",
    "        \n",
    "        b_gradient += y - (m * x + b) \n",
    "        m_gradient += x * (y - (m * x + b))\n",
    "        \n",
    "    b_gradient = (-2/N) * b_gradient\n",
    "    m_gradient = (-2/N) * m_gradient\n",
    "    \n",
    "    new_b = b - learning_rate * b_gradient\n",
    "    new_m = m - learning_rate * m_gradient\n",
    "    \n",
    "    return [new_b, new_m]\n",
    "\n",
    "def run():\n",
    "    #step1 - collect our data \n",
    "    points = genfromtxt(\"data.csv\",delimiter=\",\")\n",
    "    learning_rate = 0.0001\n",
    "    initial_b = 0 #initial y-intercept \n",
    "    initial_m = 0 # initial slope guess \n",
    "    num_iterations = 1\n",
    "    \n",
    "    print(\"Starting gradient descent at b = {0}, m = {1}, error = {2}\".format(initial_b,initial_m,compute_error_for_line_given_points(initial_b,initial_m, points)))\n",
    "    print(\"Running ...\")\n",
    "    \n",
    "    [b, m] = gradient_descent_runner(points, initial_b,initial_m, learning_rate,num_iterations )\n",
    "    print(\"After {0} iterations b = {1}, m = {2}, error = {3}\".format(num_iterations, b, m, compute_error_for_line_given_points(b, m,points )))\n",
    "\n",
    "if __name__ == \"__main__\":\n",
    "    run()"
   ]
  },
  {
   "cell_type": "code",
   "execution_count": null,
   "metadata": {
    "collapsed": true
   },
   "outputs": [],
   "source": []
  }
 ],
 "metadata": {
  "anaconda-cloud": {},
  "kernelspec": {
   "display_name": "Python [Root]",
   "language": "python",
   "name": "Python [Root]"
  },
  "language_info": {
   "codemirror_mode": {
    "name": "ipython",
    "version": 3
   },
   "file_extension": ".py",
   "mimetype": "text/x-python",
   "name": "python",
   "nbconvert_exporter": "python",
   "pygments_lexer": "ipython3",
   "version": "3.5.2"
  }
 },
 "nbformat": 4,
 "nbformat_minor": 0
}
